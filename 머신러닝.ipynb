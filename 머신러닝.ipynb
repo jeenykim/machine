{
  "nbformat": 4,
  "nbformat_minor": 0,
  "metadata": {
    "colab": {
      "provenance": [],
      "collapsed_sections": [
        "Te7Mbskq--h-"
      ],
      "authorship_tag": "ABX9TyMciIYuci+LaYAzu8rSvLj0",
      "include_colab_link": true
    },
    "kernelspec": {
      "name": "python3",
      "display_name": "Python 3"
    },
    "language_info": {
      "name": "python"
    }
  },
  "cells": [
    {
      "cell_type": "markdown",
      "metadata": {
        "id": "view-in-github",
        "colab_type": "text"
      },
      "source": [
        "<a href=\"https://colab.research.google.com/github/jeenykim/machine/blob/master/%EB%A8%B8%EC%8B%A0%EB%9F%AC%EB%8B%9D.ipynb\" target=\"_parent\"><img src=\"https://colab.research.google.com/assets/colab-badge.svg\" alt=\"Open In Colab\"/></a>"
      ]
    },
    {
      "cell_type": "markdown",
      "source": [
        "## import"
      ],
      "metadata": {
        "id": "Te7Mbskq--h-"
      }
    },
    {
      "cell_type": "markdown",
      "source": [
        "**pandas**"
      ],
      "metadata": {
        "id": "fyRZXbn6DdOa"
      }
    },
    {
      "cell_type": "code",
      "source": [
        "import pandas"
      ],
      "metadata": {
        "id": "dF1fw4VZ9GVE"
      },
      "execution_count": null,
      "outputs": []
    },
    {
      "cell_type": "code",
      "source": [
        "import pandas as pd"
      ],
      "metadata": {
        "id": "OI2V9Rfk9JHm"
      },
      "execution_count": null,
      "outputs": []
    },
    {
      "cell_type": "markdown",
      "source": [
        "pd라는 축약별칭으로 명명"
      ],
      "metadata": {
        "id": "7qUONrCd9hQx"
      }
    },
    {
      "cell_type": "code",
      "source": [
        "pd"
      ],
      "metadata": {
        "colab": {
          "base_uri": "https://localhost:8080/"
        },
        "id": "18eCAdHy9MRM",
        "outputId": "7eae54cc-0e66-417b-8bcd-a0bbd88c174c"
      },
      "execution_count": null,
      "outputs": [
        {
          "output_type": "execute_result",
          "data": {
            "text/plain": [
              "<module 'pandas' from '/usr/local/lib/python3.10/dist-packages/pandas/__init__.py'>"
            ]
          },
          "metadata": {},
          "execution_count": 7
        }
      ]
    },
    {
      "cell_type": "markdown",
      "source": [
        " **tensorflow**"
      ],
      "metadata": {
        "id": "Ngzi-pcpDgDZ"
      }
    },
    {
      "cell_type": "code",
      "source": [
        "import tensorflow"
      ],
      "metadata": {
        "id": "d7KkymLQC-fR"
      },
      "execution_count": null,
      "outputs": []
    },
    {
      "cell_type": "code",
      "source": [
        "import tensorflow as tf"
      ],
      "metadata": {
        "id": "O_zyegwD_l7i"
      },
      "execution_count": null,
      "outputs": []
    },
    {
      "cell_type": "markdown",
      "source": [
        "**하위폴더타겟**"
      ],
      "metadata": {
        "id": "o0tJD7VKDqR3"
      }
    },
    {
      "cell_type": "code",
      "source": [
        "tf.keras.layers.Dense(10)"
      ],
      "metadata": {
        "colab": {
          "base_uri": "https://localhost:8080/"
        },
        "id": "2POdgk0uASh_",
        "outputId": "04df57c4-ffc5-446f-9d3c-d8c5ecb96383"
      },
      "execution_count": null,
      "outputs": [
        {
          "output_type": "execute_result",
          "data": {
            "text/plain": [
              "<keras.src.layers.core.dense.Dense at 0x796b92d41660>"
            ]
          },
          "metadata": {},
          "execution_count": 11
        }
      ]
    },
    {
      "cell_type": "code",
      "source": [
        "tf.keras.layers.Dense(10)\n",
        "tf.keras.layers.Dense(10)\n",
        "tf.keras.layers.Dense(10)\n",
        "tf.keras.layers.Dense(10)"
      ],
      "metadata": {
        "colab": {
          "base_uri": "https://localhost:8080/"
        },
        "id": "Swgge1NvApmn",
        "outputId": "c923758f-851d-4812-e19c-cf4e013d79d4"
      },
      "execution_count": null,
      "outputs": [
        {
          "output_type": "execute_result",
          "data": {
            "text/plain": [
              "<keras.src.layers.core.dense.Dense at 0x796b92d23640>"
            ]
          },
          "metadata": {},
          "execution_count": 12
        }
      ]
    },
    {
      "cell_type": "markdown",
      "source": [
        "**축약해서 가져올수 있다**"
      ],
      "metadata": {
        "id": "UJ0ndIoqDy8t"
      }
    },
    {
      "cell_type": "code",
      "source": [
        "from tensorflow.keras.layers import Dense"
      ],
      "metadata": {
        "id": "IU4hcQ0-AvAU"
      },
      "execution_count": null,
      "outputs": []
    },
    {
      "cell_type": "code",
      "source": [
        "Dense(10)"
      ],
      "metadata": {
        "colab": {
          "base_uri": "https://localhost:8080/"
        },
        "id": "2HFr-vbTBKW2",
        "outputId": "0083db1b-ce7e-4cd9-ea63-7469fbc8785a"
      },
      "execution_count": null,
      "outputs": [
        {
          "output_type": "execute_result",
          "data": {
            "text/plain": [
              "<keras.src.layers.core.dense.Dense at 0x796b92c85c30>"
            ]
          },
          "metadata": {},
          "execution_count": 15
        }
      ]
    },
    {
      "cell_type": "code",
      "source": [],
      "metadata": {
        "id": "KZ_PdPO6BSYY"
      },
      "execution_count": null,
      "outputs": []
    },
    {
      "cell_type": "markdown",
      "source": [
        "# Type"
      ],
      "metadata": {
        "id": "zwbPqTw-GiLk"
      }
    },
    {
      "cell_type": "markdown",
      "source": [
        "**1.문자**"
      ],
      "metadata": {
        "id": "VOjf0H0pGnBd"
      }
    },
    {
      "cell_type": "code",
      "source": [
        "word = 'Deeplearning in Fun'"
      ],
      "metadata": {
        "id": "d9ytdOGJE_D4"
      },
      "execution_count": null,
      "outputs": []
    },
    {
      "cell_type": "code",
      "source": [
        "word = \"Deeplearning in Fun\""
      ],
      "metadata": {
        "id": "Z5qdFCR3Fo_l"
      },
      "execution_count": null,
      "outputs": []
    },
    {
      "cell_type": "code",
      "source": [
        "word"
      ],
      "metadata": {
        "colab": {
          "base_uri": "https://localhost:8080/",
          "height": 35
        },
        "id": "JV5zHBbuFIQk",
        "outputId": "9723e69b-5378-4666-a88c-c40b019db0b6"
      },
      "execution_count": null,
      "outputs": [
        {
          "output_type": "execute_result",
          "data": {
            "text/plain": [
              "'Deeplearning in Fun'"
            ],
            "application/vnd.google.colaboratory.intrinsic+json": {
              "type": "string"
            }
          },
          "metadata": {},
          "execution_count": 20
        }
      ]
    },
    {
      "cell_type": "code",
      "source": [
        "type(word)"
      ],
      "metadata": {
        "colab": {
          "base_uri": "https://localhost:8080/"
        },
        "id": "y4obQfH1FKYx",
        "outputId": "dc12e18b-da11-4db1-cf22-d9562821cba9"
      },
      "execution_count": null,
      "outputs": [
        {
          "output_type": "execute_result",
          "data": {
            "text/plain": [
              "str"
            ]
          },
          "metadata": {},
          "execution_count": 21
        }
      ]
    },
    {
      "cell_type": "code",
      "source": [
        "number = '1'"
      ],
      "metadata": {
        "id": "SEhCwroyFPyQ"
      },
      "execution_count": null,
      "outputs": []
    },
    {
      "cell_type": "code",
      "source": [
        "number"
      ],
      "metadata": {
        "colab": {
          "base_uri": "https://localhost:8080/",
          "height": 35
        },
        "id": "9mwnvaRqFURn",
        "outputId": "7393e1fc-1c30-499f-f894-2404edb92d71"
      },
      "execution_count": null,
      "outputs": [
        {
          "output_type": "execute_result",
          "data": {
            "text/plain": [
              "'1'"
            ],
            "application/vnd.google.colaboratory.intrinsic+json": {
              "type": "string"
            }
          },
          "metadata": {},
          "execution_count": 23
        }
      ]
    },
    {
      "cell_type": "code",
      "source": [
        "type(number)\n"
      ],
      "metadata": {
        "colab": {
          "base_uri": "https://localhost:8080/"
        },
        "id": "4y5mP68YFVip",
        "outputId": "9f7fd34c-77e7-4565-df7b-af3194ba11c6"
      },
      "execution_count": null,
      "outputs": [
        {
          "output_type": "execute_result",
          "data": {
            "text/plain": [
              "str"
            ]
          },
          "metadata": {},
          "execution_count": 25
        }
      ]
    },
    {
      "cell_type": "markdown",
      "source": [
        "**2.정수**"
      ],
      "metadata": {
        "id": "vAaXHpf8GtFd"
      }
    },
    {
      "cell_type": "code",
      "source": [
        "number = 1"
      ],
      "metadata": {
        "id": "gFcNvZmfGuJv"
      },
      "execution_count": null,
      "outputs": []
    },
    {
      "cell_type": "code",
      "source": [
        "type(number)"
      ],
      "metadata": {
        "colab": {
          "base_uri": "https://localhost:8080/"
        },
        "id": "8-YxI45oG0Gf",
        "outputId": "6521b13a-0149-4397-9e69-a84f430df75c"
      },
      "execution_count": null,
      "outputs": [
        {
          "output_type": "execute_result",
          "data": {
            "text/plain": [
              "int"
            ]
          },
          "metadata": {},
          "execution_count": 27
        }
      ]
    },
    {
      "cell_type": "markdown",
      "source": [
        "**3.실수**"
      ],
      "metadata": {
        "id": "Pc9BCxqkG9c4"
      }
    },
    {
      "cell_type": "code",
      "source": [
        "number = 3.14"
      ],
      "metadata": {
        "id": "iWEs0MskG2tN"
      },
      "execution_count": null,
      "outputs": []
    },
    {
      "cell_type": "code",
      "source": [
        "type(number)"
      ],
      "metadata": {
        "colab": {
          "base_uri": "https://localhost:8080/"
        },
        "id": "9X9nafNHHD1k",
        "outputId": "e9d16228-9f6e-4352-96d8-94a185536ca9"
      },
      "execution_count": null,
      "outputs": [
        {
          "output_type": "execute_result",
          "data": {
            "text/plain": [
              "float"
            ]
          },
          "metadata": {},
          "execution_count": 29
        }
      ]
    },
    {
      "cell_type": "markdown",
      "source": [
        "**4.데이터변환**\n"
      ],
      "metadata": {
        "id": "-EAu2dT0HIT5"
      }
    },
    {
      "cell_type": "markdown",
      "source": [
        "**4_1.정수를 실수로**\n",
        "\n"
      ],
      "metadata": {
        "id": "MrStL-k3IEbS"
      }
    },
    {
      "cell_type": "code",
      "source": [
        "number = 1"
      ],
      "metadata": {
        "id": "wpmgdc_fHGpK"
      },
      "execution_count": null,
      "outputs": []
    },
    {
      "cell_type": "code",
      "source": [
        "type(number)"
      ],
      "metadata": {
        "colab": {
          "base_uri": "https://localhost:8080/"
        },
        "id": "eKkhNfq3HWI9",
        "outputId": "ff6b2dc7-a3ff-42a4-ae38-fca8f0c6dd03"
      },
      "execution_count": null,
      "outputs": [
        {
          "output_type": "execute_result",
          "data": {
            "text/plain": [
              "int"
            ]
          },
          "metadata": {},
          "execution_count": 31
        }
      ]
    },
    {
      "cell_type": "code",
      "source": [
        "type(number / 1.0)"
      ],
      "metadata": {
        "colab": {
          "base_uri": "https://localhost:8080/"
        },
        "id": "RcUnLnleHYem",
        "outputId": "2249f227-8d01-482a-dcbe-66cbc0c3476c"
      },
      "execution_count": null,
      "outputs": [
        {
          "output_type": "execute_result",
          "data": {
            "text/plain": [
              "float"
            ]
          },
          "metadata": {},
          "execution_count": 33
        }
      ]
    },
    {
      "cell_type": "markdown",
      "source": [
        "1.0으로 나누면 실수로 표현"
      ],
      "metadata": {
        "id": "eZ_kULuUH3hw"
      }
    },
    {
      "cell_type": "code",
      "source": [
        "number / 1.0"
      ],
      "metadata": {
        "colab": {
          "base_uri": "https://localhost:8080/"
        },
        "id": "mz78ekSSHb-7",
        "outputId": "6fbb1686-991c-41cc-b94a-0c9560c6b777"
      },
      "execution_count": null,
      "outputs": [
        {
          "output_type": "execute_result",
          "data": {
            "text/plain": [
              "1.0"
            ]
          },
          "metadata": {},
          "execution_count": 34
        }
      ]
    },
    {
      "cell_type": "markdown",
      "source": [
        "float(...) 실수로 데이터변환"
      ],
      "metadata": {
        "id": "ywGB7dX_JWXM"
      }
    },
    {
      "cell_type": "code",
      "source": [
        "number = 1"
      ],
      "metadata": {
        "id": "Oh7HxrqOJN-k"
      },
      "execution_count": null,
      "outputs": []
    },
    {
      "cell_type": "code",
      "source": [
        "float(number)"
      ],
      "metadata": {
        "colab": {
          "base_uri": "https://localhost:8080/"
        },
        "id": "ooYkJWnKJSg8",
        "outputId": "71f69e23-7398-4d24-9dd6-5a0fdc12a187"
      },
      "execution_count": null,
      "outputs": [
        {
          "output_type": "execute_result",
          "data": {
            "text/plain": [
              "1.0"
            ]
          },
          "metadata": {},
          "execution_count": 40
        }
      ]
    },
    {
      "cell_type": "markdown",
      "source": [
        "**4_2.실수를 정수로**"
      ],
      "metadata": {
        "id": "Qru-1su5IrRv"
      }
    },
    {
      "cell_type": "code",
      "source": [
        "number = 3.14"
      ],
      "metadata": {
        "id": "pvV5ww6lIq2z"
      },
      "execution_count": null,
      "outputs": []
    },
    {
      "cell_type": "code",
      "source": [
        "int(number)"
      ],
      "metadata": {
        "colab": {
          "base_uri": "https://localhost:8080/"
        },
        "id": "q9X773RdIqHD",
        "outputId": "c5d8c301-6b32-4806-d55a-27f521308813"
      },
      "execution_count": null,
      "outputs": [
        {
          "output_type": "execute_result",
          "data": {
            "text/plain": [
              "3"
            ]
          },
          "metadata": {},
          "execution_count": 36
        }
      ]
    },
    {
      "cell_type": "code",
      "source": [
        "number = 1"
      ],
      "metadata": {
        "id": "atNo6n3GHoyD"
      },
      "execution_count": null,
      "outputs": []
    },
    {
      "cell_type": "code",
      "source": [
        "float(number)"
      ],
      "metadata": {
        "colab": {
          "base_uri": "https://localhost:8080/"
        },
        "id": "Q72E6q-mJB9l",
        "outputId": "a219b10d-9504-41b1-9f91-31f2cbe48f31"
      },
      "execution_count": null,
      "outputs": [
        {
          "output_type": "execute_result",
          "data": {
            "text/plain": [
              "1.0"
            ]
          },
          "metadata": {},
          "execution_count": 38
        }
      ]
    },
    {
      "cell_type": "code",
      "source": [],
      "metadata": {
        "id": "hCzYca-8JG0B"
      },
      "execution_count": null,
      "outputs": []
    },
    {
      "cell_type": "markdown",
      "source": [
        "# List(리스트)&슬라이싱(잘라내기)"
      ],
      "metadata": {
        "id": "4iNjgMVQKEVk"
      }
    },
    {
      "cell_type": "markdown",
      "source": [
        "**1.리스트**"
      ],
      "metadata": {
        "id": "xRW74hy8TVc0"
      }
    },
    {
      "cell_type": "markdown",
      "source": [
        "꺽쇠[]안에 복수개의 데이터를 넣어준 집합"
      ],
      "metadata": {
        "id": "h7y7hBjaKQT7"
      }
    },
    {
      "cell_type": "markdown",
      "source": [
        "1차원 리스트 생성"
      ],
      "metadata": {
        "id": "RYcX2NJZSAHc"
      }
    },
    {
      "cell_type": "code",
      "source": [
        "x = [10, 20, 30 ,40, 50, 60, 70 ,80]"
      ],
      "metadata": {
        "id": "n4L08N3BKMnJ"
      },
      "execution_count": null,
      "outputs": []
    },
    {
      "cell_type": "code",
      "source": [
        "type(x)"
      ],
      "metadata": {
        "colab": {
          "base_uri": "https://localhost:8080/"
        },
        "id": "Ae5OxxTmSMkq",
        "outputId": "433de346-d118-4462-9b2d-4d89f1a95783"
      },
      "execution_count": null,
      "outputs": [
        {
          "output_type": "execute_result",
          "data": {
            "text/plain": [
              "list"
            ]
          },
          "metadata": {},
          "execution_count": 42
        }
      ]
    },
    {
      "cell_type": "markdown",
      "source": [
        "2차원 리스트 생성"
      ],
      "metadata": {
        "id": "k35JTH4ASf55"
      }
    },
    {
      "cell_type": "code",
      "source": [
        "x_2d = [\n",
        "    [10, 20, 30 ,40, 50, 60, 70 ,80],\n",
        "    [11, 21, 31 ,41, 51, 61, 71 ,81],\n",
        "]"
      ],
      "metadata": {
        "id": "k2ZcpMjGSPYR"
      },
      "execution_count": null,
      "outputs": []
    },
    {
      "cell_type": "code",
      "source": [
        "x_2d"
      ],
      "metadata": {
        "colab": {
          "base_uri": "https://localhost:8080/"
        },
        "id": "iCXlTC1KS_8Z",
        "outputId": "6e1d15bc-5415-4447-cf0b-54c8873ee048"
      },
      "execution_count": null,
      "outputs": [
        {
          "output_type": "execute_result",
          "data": {
            "text/plain": [
              "[[10, 20, 30, 40, 50, 60, 70, 80], [11, 21, 31, 41, 51, 61, 71, 81]]"
            ]
          },
          "metadata": {},
          "execution_count": 46
        }
      ]
    },
    {
      "cell_type": "markdown",
      "source": [
        "**2.색인(index)**"
      ],
      "metadata": {
        "id": "d5psaf3STemA"
      }
    },
    {
      "cell_type": "markdown",
      "source": [
        "리스트는 0번 index부터 시작한다"
      ],
      "metadata": {
        "id": "2DGWf2VvTmpA"
      }
    },
    {
      "cell_type": "code",
      "source": [
        "x = [10, 20, 30 ,40, 50, 60, 70 ,80]"
      ],
      "metadata": {
        "id": "r6v9FBQ5TBSr"
      },
      "execution_count": null,
      "outputs": []
    },
    {
      "cell_type": "markdown",
      "source": [
        "0부터7까지 있다"
      ],
      "metadata": {
        "id": "AvU0CV_uUgfg"
      }
    },
    {
      "cell_type": "code",
      "source": [
        "x[0]"
      ],
      "metadata": {
        "colab": {
          "base_uri": "https://localhost:8080/"
        },
        "id": "cdS73YbSTzCV",
        "outputId": "f9cf17aa-c137-4324-923f-ae6048977262"
      },
      "execution_count": null,
      "outputs": [
        {
          "output_type": "execute_result",
          "data": {
            "text/plain": [
              "10"
            ]
          },
          "metadata": {},
          "execution_count": 50
        }
      ]
    },
    {
      "cell_type": "code",
      "source": [
        "x[3]"
      ],
      "metadata": {
        "colab": {
          "base_uri": "https://localhost:8080/"
        },
        "id": "z9R67tpbT7cD",
        "outputId": "199c05a5-3c2a-47ac-999b-b25de0d649e8"
      },
      "execution_count": null,
      "outputs": [
        {
          "output_type": "execute_result",
          "data": {
            "text/plain": [
              "40"
            ]
          },
          "metadata": {},
          "execution_count": 51
        }
      ]
    },
    {
      "cell_type": "markdown",
      "source": [
        "-1은 거꾸로 색인한다"
      ],
      "metadata": {
        "id": "mxL8q8x5UFR0"
      }
    },
    {
      "cell_type": "code",
      "source": [
        "x[-1]"
      ],
      "metadata": {
        "colab": {
          "base_uri": "https://localhost:8080/"
        },
        "id": "lIIPE4RxUIXS",
        "outputId": "6e49171f-93e0-4902-d939-f4eb12d0ba4a"
      },
      "execution_count": null,
      "outputs": [
        {
          "output_type": "execute_result",
          "data": {
            "text/plain": [
              "80"
            ]
          },
          "metadata": {},
          "execution_count": 52
        }
      ]
    },
    {
      "cell_type": "code",
      "source": [
        "x[-8]"
      ],
      "metadata": {
        "colab": {
          "base_uri": "https://localhost:8080/"
        },
        "id": "0cV5jFCbUZgh",
        "outputId": "68b67800-f2c7-4d13-dcc4-238c1243bdd9"
      },
      "execution_count": null,
      "outputs": [
        {
          "output_type": "execute_result",
          "data": {
            "text/plain": [
              "10"
            ]
          },
          "metadata": {},
          "execution_count": 53
        }
      ]
    },
    {
      "cell_type": "markdown",
      "source": [
        "**3.슬라이싱**"
      ],
      "metadata": {
        "id": "RJHEdXHzUlwt"
      }
    },
    {
      "cell_type": "markdown",
      "source": [
        ":기준으로 왼쪽은 포함 / :기준으로 오른쪽은 미만"
      ],
      "metadata": {
        "id": "hQIwA5q3UvKr"
      }
    },
    {
      "cell_type": "code",
      "source": [
        "x = [10, 20, 30 ,40, 50, 60, 70 ,80]"
      ],
      "metadata": {
        "id": "_x7kwaBxUcAm"
      },
      "execution_count": null,
      "outputs": []
    },
    {
      "cell_type": "code",
      "source": [
        "x[0:4]"
      ],
      "metadata": {
        "colab": {
          "base_uri": "https://localhost:8080/"
        },
        "id": "btA8G5kMVE8B",
        "outputId": "bb87dcaf-f190-41d8-a3be-fc7ea3fcc01e"
      },
      "execution_count": null,
      "outputs": [
        {
          "output_type": "execute_result",
          "data": {
            "text/plain": [
              "[10, 20, 30, 40]"
            ]
          },
          "metadata": {},
          "execution_count": 55
        }
      ]
    },
    {
      "cell_type": "code",
      "source": [
        "x[:3]"
      ],
      "metadata": {
        "colab": {
          "base_uri": "https://localhost:8080/"
        },
        "id": "AwKoTh3pVKaK",
        "outputId": "6179877f-5b9c-4d7f-87d5-a8fafb44613e"
      },
      "execution_count": null,
      "outputs": [
        {
          "output_type": "execute_result",
          "data": {
            "text/plain": [
              "[10, 20, 30]"
            ]
          },
          "metadata": {},
          "execution_count": 60
        }
      ]
    },
    {
      "cell_type": "markdown",
      "source": [
        "4번째 제외"
      ],
      "metadata": {
        "id": "YM7UnCowV-cX"
      }
    },
    {
      "cell_type": "code",
      "source": [
        "x[:-3]"
      ],
      "metadata": {
        "colab": {
          "base_uri": "https://localhost:8080/"
        },
        "id": "kv_wF8mdVSA_",
        "outputId": "45c7bd3c-5810-4078-a05c-e9bb160e7757"
      },
      "execution_count": null,
      "outputs": [
        {
          "output_type": "execute_result",
          "data": {
            "text/plain": [
              "[10, 20, 30, 40, 50]"
            ]
          },
          "metadata": {},
          "execution_count": 61
        }
      ]
    },
    {
      "cell_type": "code",
      "source": [],
      "metadata": {
        "id": "O9YOL5mBVY36"
      },
      "execution_count": null,
      "outputs": []
    },
    {
      "cell_type": "markdown",
      "source": [
        "뒤에서 4번째 부터\n"
      ],
      "metadata": {
        "id": "EuxIRuerWCRj"
      }
    },
    {
      "cell_type": "code",
      "source": [
        "x[-5:-3]"
      ],
      "metadata": {
        "colab": {
          "base_uri": "https://localhost:8080/"
        },
        "id": "wOvtf1h5WK1o",
        "outputId": "c447afc4-44eb-43ae-faee-fa21bfbf0c7d"
      },
      "execution_count": null,
      "outputs": [
        {
          "output_type": "execute_result",
          "data": {
            "text/plain": [
              "[40, 50]"
            ]
          },
          "metadata": {},
          "execution_count": 62
        }
      ]
    },
    {
      "cell_type": "markdown",
      "source": [
        "뒤에서 5번째포함 3번째 제외"
      ],
      "metadata": {
        "id": "Hh6j4cznWjWL"
      }
    },
    {
      "cell_type": "markdown",
      "source": [
        "# Numpy Array(배열)"
      ],
      "metadata": {
        "id": "ZQNMO1w0WyiO"
      }
    },
    {
      "cell_type": "code",
      "source": [
        "x = [10, 20, 30 ,40, 50, 60, 70 ,80]"
      ],
      "metadata": {
        "id": "xs-DFuk4W39H"
      },
      "execution_count": null,
      "outputs": []
    },
    {
      "cell_type": "code",
      "source": [
        "type(x)"
      ],
      "metadata": {
        "colab": {
          "base_uri": "https://localhost:8080/"
        },
        "id": "x4Zn35iuXKQy",
        "outputId": "2e3d0fde-7e08-4a8b-98a4-b88a6d73e5c9"
      },
      "execution_count": null,
      "outputs": [
        {
          "output_type": "execute_result",
          "data": {
            "text/plain": [
              "list"
            ]
          },
          "metadata": {},
          "execution_count": 65
        }
      ]
    },
    {
      "cell_type": "code",
      "source": [
        "import numpy as np"
      ],
      "metadata": {
        "id": "WEIrSsXIW72F"
      },
      "execution_count": null,
      "outputs": []
    },
    {
      "cell_type": "code",
      "source": [
        "x_arr = np.array(x)"
      ],
      "metadata": {
        "id": "XettMdxpXFK2"
      },
      "execution_count": null,
      "outputs": []
    },
    {
      "cell_type": "code",
      "source": [
        "x_arr"
      ],
      "metadata": {
        "colab": {
          "base_uri": "https://localhost:8080/"
        },
        "id": "uZHm2SZ1XckK",
        "outputId": "944107f7-6d96-452c-b8d6-c3f06dc1edac"
      },
      "execution_count": null,
      "outputs": [
        {
          "output_type": "execute_result",
          "data": {
            "text/plain": [
              "array([10, 20, 30, 40, 50, 60, 70, 80])"
            ]
          },
          "metadata": {},
          "execution_count": 67
        }
      ]
    },
    {
      "cell_type": "markdown",
      "source": [
        "# Tuple(튜플)"
      ],
      "metadata": {
        "id": "3MY1crbnBkB6"
      }
    },
    {
      "cell_type": "code",
      "source": [
        "x = [10, 20, 30]"
      ],
      "metadata": {
        "id": "UkkV9fSoBt9P"
      },
      "execution_count": 15,
      "outputs": []
    },
    {
      "cell_type": "code",
      "source": [
        "x"
      ],
      "metadata": {
        "colab": {
          "base_uri": "https://localhost:8080/"
        },
        "id": "RML9mMCbCAHr",
        "outputId": "a7c13075-7dd6-4e00-b48d-89a7d92e2d8c"
      },
      "execution_count": 16,
      "outputs": [
        {
          "output_type": "execute_result",
          "data": {
            "text/plain": [
              "[10, 20, 30]"
            ]
          },
          "metadata": {},
          "execution_count": 16
        }
      ]
    },
    {
      "cell_type": "code",
      "source": [
        "x[0]"
      ],
      "metadata": {
        "colab": {
          "base_uri": "https://localhost:8080/"
        },
        "id": "_pD5sh6nCDEy",
        "outputId": "27809105-5153-4073-c2d1-2d8ea8e917d8"
      },
      "execution_count": 17,
      "outputs": [
        {
          "output_type": "execute_result",
          "data": {
            "text/plain": [
              "10"
            ]
          },
          "metadata": {},
          "execution_count": 17
        }
      ]
    },
    {
      "cell_type": "code",
      "source": [
        "x[0] = 99"
      ],
      "metadata": {
        "id": "NYR8xS6gCHsu"
      },
      "execution_count": 18,
      "outputs": []
    },
    {
      "cell_type": "code",
      "source": [
        "x"
      ],
      "metadata": {
        "colab": {
          "base_uri": "https://localhost:8080/"
        },
        "id": "0aQt2Ow8CLdp",
        "outputId": "89c1dd92-8a93-48ac-cee8-6ac6b38567a8"
      },
      "execution_count": 19,
      "outputs": [
        {
          "output_type": "execute_result",
          "data": {
            "text/plain": [
              "[99, 20, 30]"
            ]
          },
          "metadata": {},
          "execution_count": 19
        }
      ]
    },
    {
      "cell_type": "code",
      "source": [
        "type(x)"
      ],
      "metadata": {
        "colab": {
          "base_uri": "https://localhost:8080/"
        },
        "id": "vHMfQHnTCT4l",
        "outputId": "acc6875a-74ac-4120-8ad3-a16517e4c3eb"
      },
      "execution_count": 21,
      "outputs": [
        {
          "output_type": "execute_result",
          "data": {
            "text/plain": [
              "list"
            ]
          },
          "metadata": {},
          "execution_count": 21
        }
      ]
    },
    {
      "cell_type": "markdown",
      "source": [
        "**리스트는 값 수정할수 있다**"
      ],
      "metadata": {
        "id": "pjAYu-5mCeCX"
      }
    },
    {
      "cell_type": "code",
      "source": [
        "x = (10, 20, 30)"
      ],
      "metadata": {
        "id": "MNriIa1CCkpe"
      },
      "execution_count": 24,
      "outputs": []
    },
    {
      "cell_type": "code",
      "source": [
        "type(x)"
      ],
      "metadata": {
        "colab": {
          "base_uri": "https://localhost:8080/"
        },
        "id": "YuX2U0leCvOi",
        "outputId": "0b696f0c-fbdd-4eca-af29-180a8eff4042"
      },
      "execution_count": 25,
      "outputs": [
        {
          "output_type": "execute_result",
          "data": {
            "text/plain": [
              "tuple"
            ]
          },
          "metadata": {},
          "execution_count": 25
        }
      ]
    },
    {
      "cell_type": "markdown",
      "source": [
        "# 모양새 확인(shape)"
      ],
      "metadata": {
        "id": "Ny3QnxdjYVzr"
      }
    },
    {
      "cell_type": "code",
      "source": [
        "x_arr.shape"
      ],
      "metadata": {
        "colab": {
          "base_uri": "https://localhost:8080/"
        },
        "id": "PqoGHxvQXfmS",
        "outputId": "e881e0e6-40a2-4702-d849-3b9c706e422b"
      },
      "execution_count": null,
      "outputs": [
        {
          "output_type": "execute_result",
          "data": {
            "text/plain": [
              "(8,)"
            ]
          },
          "metadata": {},
          "execution_count": 68
        }
      ]
    },
    {
      "cell_type": "markdown",
      "source": [
        "모양새 확인"
      ],
      "metadata": {
        "id": "k6OuAfFsYNk_"
      }
    },
    {
      "cell_type": "markdown",
      "source": [
        "**row, column(행, 열)**"
      ],
      "metadata": {
        "id": "EE7rnfIaYr-D"
      }
    },
    {
      "cell_type": "code",
      "source": [
        "x_2d = [\n",
        "    [10, 20, 30 ,40, 50, 60, 70 ,80],\n",
        "    [11, 21, 31 ,41, 51, 61, 71 ,81],\n",
        "]"
      ],
      "metadata": {
        "id": "5Jo06ywzXwHu"
      },
      "execution_count": 4,
      "outputs": []
    },
    {
      "cell_type": "code",
      "source": [
        "x_2d"
      ],
      "metadata": {
        "colab": {
          "base_uri": "https://localhost:8080/"
        },
        "id": "m1qIApJV8pTf",
        "outputId": "c5d7137b-c4d3-4931-e45f-6658c07d8273"
      },
      "execution_count": 5,
      "outputs": [
        {
          "output_type": "execute_result",
          "data": {
            "text/plain": [
              "[[10, 20, 30, 40, 50, 60, 70, 80], [11, 21, 31, 41, 51, 61, 71, 81]]"
            ]
          },
          "metadata": {},
          "execution_count": 5
        }
      ]
    },
    {
      "cell_type": "code",
      "source": [
        "import numpy as np"
      ],
      "metadata": {
        "id": "XWwVRmE89bqz"
      },
      "execution_count": 8,
      "outputs": []
    },
    {
      "cell_type": "code",
      "source": [
        "x_2d_arr = np.array(x_2d)"
      ],
      "metadata": {
        "id": "-nLMCh5n9Hdi"
      },
      "execution_count": 9,
      "outputs": []
    },
    {
      "cell_type": "markdown",
      "source": [
        "Numpy Array로 변환후 x_2d_arr변수에 넣어줌"
      ],
      "metadata": {
        "id": "ykKCK38m-4Xv"
      }
    },
    {
      "cell_type": "code",
      "source": [
        "x_2d_arr.shape"
      ],
      "metadata": {
        "colab": {
          "base_uri": "https://localhost:8080/"
        },
        "id": "ZEYtVulG9RgW",
        "outputId": "af748494-d419-41dc-cab7-e1ff1a0c9f99"
      },
      "execution_count": 10,
      "outputs": [
        {
          "output_type": "execute_result",
          "data": {
            "text/plain": [
              "(2, 8)"
            ]
          },
          "metadata": {},
          "execution_count": 10
        }
      ]
    },
    {
      "cell_type": "markdown",
      "source": [
        "행이2 열이8"
      ],
      "metadata": {
        "id": "vjUsHOFa-p6L"
      }
    },
    {
      "cell_type": "code",
      "source": [
        "mx_3d = [\n",
        "    [\n",
        "        [10, 20, 30, 40],\n",
        "        [50, 60, 70, 80]\n",
        "    ],\n",
        "    [\n",
        "        [11, 21, 31, 41],\n",
        "        [51, 61, 71, 81]\n",
        "    ],\n",
        "]"
      ],
      "metadata": {
        "id": "nParEn3N9mZX"
      },
      "execution_count": 11,
      "outputs": []
    },
    {
      "cell_type": "code",
      "source": [
        "mx_3d"
      ],
      "metadata": {
        "colab": {
          "base_uri": "https://localhost:8080/"
        },
        "id": "ms9_8FYE_q7s",
        "outputId": "2e0c61c5-9c5d-4f6e-8295-73322b31ef28"
      },
      "execution_count": 12,
      "outputs": [
        {
          "output_type": "execute_result",
          "data": {
            "text/plain": [
              "[[[10, 20, 30, 40], [50, 60, 70, 80]], [[11, 21, 31, 41], [51, 61, 71, 81]]]"
            ]
          },
          "metadata": {},
          "execution_count": 12
        }
      ]
    },
    {
      "cell_type": "code",
      "source": [
        "mx_3d_arr = np.array(mx_3d)"
      ],
      "metadata": {
        "id": "M8o-yTY3_uOw"
      },
      "execution_count": 13,
      "outputs": []
    },
    {
      "cell_type": "code",
      "source": [
        "mx_3d_arr.shape"
      ],
      "metadata": {
        "colab": {
          "base_uri": "https://localhost:8080/"
        },
        "id": "GLsjKmbeAHDT",
        "outputId": "f40784a0-d623-4a34-b99c-1b5d56d4f2c5"
      },
      "execution_count": 14,
      "outputs": [
        {
          "output_type": "execute_result",
          "data": {
            "text/plain": [
              "(2, 2, 4)"
            ]
          },
          "metadata": {},
          "execution_count": 14
        }
      ]
    },
    {
      "cell_type": "markdown",
      "source": [
        "2행 2행 4열"
      ],
      "metadata": {
        "id": "YsG2cSwPAopx"
      }
    },
    {
      "cell_type": "markdown",
      "source": [
        "ex:(28, 28, 3):\n",
        "이미지 shape 가로 세로 RGB칼라(3) 1이면 흑백(1)"
      ],
      "metadata": {
        "id": "8OPI14ZDAzUM"
      }
    },
    {
      "cell_type": "code",
      "source": [],
      "metadata": {
        "id": "nDOthiDuAMJV"
      },
      "execution_count": null,
      "outputs": []
    }
  ]
}